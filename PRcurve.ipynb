{
 "cells": [
  {
   "cell_type": "code",
   "execution_count": 41,
   "id": "third-conversion",
   "metadata": {},
   "outputs": [],
   "source": [
    "import glob, os\n",
    "import matplotlib.pyplot as plt\n",
    "import numpy as np\n",
    "from sklearn.metrics import roc_curve, auc, precision_recall_curve, average_precision_score,ConfusionMatrixDisplay\n",
    "from sklearn.metrics import roc_auc_score\n",
    "from sklearn.metrics import confusion_matrix\n",
    "from skimage import io\n",
    "import cv2"
   ]
  },
  {
   "cell_type": "code",
   "execution_count": 4,
   "id": "blank-stack",
   "metadata": {},
   "outputs": [
    {
     "name": "stdout",
     "output_type": "stream",
     "text": [
      "(47, 2)\n",
      "(47,)\n",
      "[0.9471329  0.05286709] 0\n",
      "float32\n"
     ]
    }
   ],
   "source": [
    "predict = np.load('./result/npy/resnet152_pred.npy')\n",
    "true = np.load('./result/npy/resnet152_true.npy')\n",
    "\n",
    "print(predict.shape)\n",
    "print(true.shape)\n",
    "print(predict[0], true[0])\n",
    "print(predict.dtype)"
   ]
  },
  {
   "cell_type": "code",
   "execution_count": 30,
   "id": "bigger-judge",
   "metadata": {},
   "outputs": [
    {
     "name": "stdout",
     "output_type": "stream",
     "text": [
      "0.03\n",
      "0.03\n"
     ]
    }
   ],
   "source": [
    "print('%.2f' % predict[i][1])\n",
    "print(float('%.2f' % predict[i][1]))"
   ]
  },
  {
   "cell_type": "code",
   "execution_count": 17,
   "id": "considered-patrick",
   "metadata": {},
   "outputs": [],
   "source": [
    "# results = np.ndarray((len(predict)), dtype=np.int8)\n",
    "results = []\n",
    "label = []\n",
    "for i in range(len(predict)):\n",
    "    label.append(np.int8(true[i]))\n",
    "    if predict[i][0]> predict[i][1]:\n",
    "        results.append(0)\n",
    "#         results[i]=0\n",
    "    else:\n",
    "#         results[i]=1\n",
    "        results.append(1)"
   ]
  },
  {
   "cell_type": "code",
   "execution_count": 34,
   "id": "dirty-spouse",
   "metadata": {},
   "outputs": [],
   "source": [
    "results = []\n",
    "label = []\n",
    "for i in range(len(predict)):\n",
    "    label.append(np.int8(true[i]))\n",
    "    results.append(float('%.3f' % predict[i][1]))"
   ]
  },
  {
   "cell_type": "code",
   "execution_count": 6,
   "id": "driving-brunswick",
   "metadata": {
    "collapsed": true,
    "jupyter": {
     "outputs_hidden": true
    }
   },
   "outputs": [
    {
     "name": "stdout",
     "output_type": "stream",
     "text": [
      "[0.9471329  0.05286709] 0 0\n",
      "[0.9762053  0.02379477] 0 0\n",
      "[0.9770567  0.02294333] 0 0\n",
      "[0.98780465 0.0121954 ] 0 0\n",
      "[0.84567434 0.15432562] 0 0\n",
      "[1.0000000e+00 2.9153668e-08] 0 0\n",
      "[0.827688   0.17231205] 0 0\n",
      "[0.9959947  0.00400529] 0 0\n",
      "[0.99428916 0.00571077] 0 0\n",
      "[0.81303114 0.18696888] 0 0\n",
      "[0.9781874  0.02181265] 0 0\n",
      "[0.97944355 0.02055641] 0 0\n",
      "[9.9999297e-01 7.0660976e-06] 0 0\n",
      "[9.999958e-01 4.138014e-06] 0 0\n",
      "[1.0000000e+00 8.4307095e-09] 0 0\n",
      "[9.999994e-01 6.053126e-07] 0 0\n",
      "[9.999939e-01 6.101188e-06] 0 0\n",
      "[0.99846244 0.00153754] 0 0\n",
      "[0.90194726 0.09805272] 0 0\n",
      "[0.86123717 0.1387629 ] 0 0\n",
      "[0.995743   0.00425702] 0 0\n",
      "[0.47217557 0.5278244 ] 0 1\n",
      "[0.7612368  0.23876327] 0 0\n",
      "[0.82763416 0.17236584] 0 0\n",
      "[0.80437964 0.19562039] 0 0\n",
      "[0.3121553 0.6878447] 0 1\n",
      "[0.95140165 0.0485984 ] 0 0\n",
      "[0.82410055 0.17589952] 0 0\n",
      "[0.9327627  0.06723735] 0 0\n",
      "[0.98516303 0.01483694] 0 0\n",
      "[0.99684536 0.00315467] 0 0\n",
      "[0.98679256 0.01320745] 0 0\n",
      "[0.43196335 0.5680367 ] 0 1\n",
      "[0.9174291  0.08257093] 0 0\n",
      "[0.70933974 0.2906602 ] 0 0\n",
      "[0.56212    0.43787995] 0 0\n",
      "[0.9797371  0.02026289] 1 0\n",
      "[9.9968600e-01 3.1404308e-04] 1 0\n",
      "[9.9940968e-01 5.9027784e-04] 1 0\n",
      "[9.992418e-01 7.582097e-04] 1 0\n",
      "[0.6590098  0.34099013] 1 0\n",
      "[0.5358333  0.46416667] 1 0\n",
      "[9.9978012e-01 2.1994121e-04] 1 0\n",
      "[0.64831 0.35169] 1 0\n",
      "[9.9999964e-01 3.3348812e-07] 1 0\n",
      "[0.99390304 0.00609698] 1 0\n",
      "[0.9749894 0.0250106] 1 0\n"
     ]
    }
   ],
   "source": [
    "for a in range(len(predict)):\n",
    "    print(predict[a], true[a], results[a])"
   ]
  },
  {
   "cell_type": "code",
   "execution_count": 8,
   "id": "seasonal-cannon",
   "metadata": {},
   "outputs": [
    {
     "name": "stdout",
     "output_type": "stream",
     "text": [
      "Help on function precision_recall_curve in module sklearn.metrics._ranking:\n",
      "\n",
      "precision_recall_curve(y_true, probas_pred, *, pos_label=None, sample_weight=None)\n",
      "    Compute precision-recall pairs for different probability thresholds\n",
      "    \n",
      "    Note: this implementation is restricted to the binary classification task.\n",
      "    \n",
      "    The precision is the ratio ``tp / (tp + fp)`` where ``tp`` is the number of\n",
      "    true positives and ``fp`` the number of false positives. The precision is\n",
      "    intuitively the ability of the classifier not to label as positive a sample\n",
      "    that is negative.\n",
      "    \n",
      "    The recall is the ratio ``tp / (tp + fn)`` where ``tp`` is the number of\n",
      "    true positives and ``fn`` the number of false negatives. The recall is\n",
      "    intuitively the ability of the classifier to find all the positive samples.\n",
      "    \n",
      "    The last precision and recall values are 1. and 0. respectively and do not\n",
      "    have a corresponding threshold.  This ensures that the graph starts on the\n",
      "    y axis.\n",
      "    \n",
      "    Read more in the :ref:`User Guide <precision_recall_f_measure_metrics>`.\n",
      "    \n",
      "    Parameters\n",
      "    ----------\n",
      "    y_true : array, shape = [n_samples]\n",
      "        True binary labels. If labels are not either {-1, 1} or {0, 1}, then\n",
      "        pos_label should be explicitly given.\n",
      "    \n",
      "    probas_pred : array, shape = [n_samples]\n",
      "        Estimated probabilities or decision function.\n",
      "    \n",
      "    pos_label : int or str, default=None\n",
      "        The label of the positive class.\n",
      "        When ``pos_label=None``, if y_true is in {-1, 1} or {0, 1},\n",
      "        ``pos_label`` is set to 1, otherwise an error will be raised.\n",
      "    \n",
      "    sample_weight : array-like of shape (n_samples,), default=None\n",
      "        Sample weights.\n",
      "    \n",
      "    Returns\n",
      "    -------\n",
      "    precision : array, shape = [n_thresholds + 1]\n",
      "        Precision values such that element i is the precision of\n",
      "        predictions with score >= thresholds[i] and the last element is 1.\n",
      "    \n",
      "    recall : array, shape = [n_thresholds + 1]\n",
      "        Decreasing recall values such that element i is the recall of\n",
      "        predictions with score >= thresholds[i] and the last element is 0.\n",
      "    \n",
      "    thresholds : array, shape = [n_thresholds <= len(np.unique(probas_pred))]\n",
      "        Increasing thresholds on the decision function used to compute\n",
      "        precision and recall.\n",
      "    \n",
      "    See also\n",
      "    --------\n",
      "    average_precision_score : Compute average precision from prediction scores\n",
      "    \n",
      "    roc_curve : Compute Receiver operating characteristic (ROC) curve\n",
      "    \n",
      "    Examples\n",
      "    --------\n",
      "    >>> import numpy as np\n",
      "    >>> from sklearn.metrics import precision_recall_curve\n",
      "    >>> y_true = np.array([0, 0, 1, 1])\n",
      "    >>> y_scores = np.array([0.1, 0.4, 0.35, 0.8])\n",
      "    >>> precision, recall, thresholds = precision_recall_curve(\n",
      "    ...     y_true, y_scores)\n",
      "    >>> precision\n",
      "    array([0.66666667, 0.5       , 1.        , 1.        ])\n",
      "    >>> recall\n",
      "    array([1. , 0.5, 0.5, 0. ])\n",
      "    >>> thresholds\n",
      "    array([0.35, 0.4 , 0.8 ])\n",
      "\n"
     ]
    }
   ],
   "source": [
    "help(precision_recall_curve)"
   ]
  },
  {
   "cell_type": "code",
   "execution_count": 36,
   "id": "treated-newcastle",
   "metadata": {},
   "outputs": [
    {
     "name": "stdout",
     "output_type": "stream",
     "text": [
      "[0.053 0.024 0.023 0.012 0.154 0.    0.172 0.004 0.006 0.187 0.022 0.021\n",
      " 0.    0.    0.    0.    0.    0.002 0.098 0.139 0.004 0.528 0.239 0.172\n",
      " 0.196 0.688 0.049 0.176 0.067 0.015 0.003 0.013 0.568 0.083 0.291 0.438\n",
      " 0.02  0.    0.001 0.001 0.341 0.464 0.    0.352 0.    0.006 0.025]\n",
      "[0.053, 0.024, 0.023, 0.012, 0.154, 0.0, 0.172, 0.004, 0.006, 0.187, 0.022, 0.021, 0.0, 0.0, 0.0, 0.0, 0.0, 0.002, 0.098, 0.139, 0.004, 0.528, 0.239, 0.172, 0.196, 0.688, 0.049, 0.176, 0.067, 0.015, 0.003, 0.013, 0.568, 0.083, 0.291, 0.438, 0.02, 0.0, 0.001, 0.001, 0.341, 0.464, 0.0, 0.352, 0.0, 0.006, 0.025]\n",
      "[0, 0, 0, 0, 0, 0, 0, 0, 0, 0, 0, 0, 0, 0, 0, 0, 0, 0, 0, 0, 0, 0, 0, 0, 0, 0, 0, 0, 0, 0, 0, 0, 0, 0, 0, 0, 1, 1, 1, 1, 1, 1, 1, 1, 1, 1, 1]\n"
     ]
    }
   ],
   "source": [
    "print(np.array(results))\n",
    "print(results)\n",
    "print(label)"
   ]
  },
  {
   "cell_type": "code",
   "execution_count": 46,
   "id": "distant-monkey",
   "metadata": {},
   "outputs": [
    {
     "name": "stdout",
     "output_type": "stream",
     "text": [
      "11\n"
     ]
    }
   ],
   "source": [
    "nP = 0\n",
    "for p in range(len(label)):\n",
    "    if label[p] == 1:\n",
    "        nP+=1\n",
    "print(nP)"
   ]
  },
  {
   "cell_type": "code",
   "execution_count": 57,
   "id": "exclusive-mississippi",
   "metadata": {},
   "outputs": [
    {
     "name": "stdout",
     "output_type": "stream",
     "text": [
      "0\n"
     ]
    },
    {
     "data": {
      "image/png": "[encoded data removed]",
      "text/plain": [
       "<Figure size 720x720 with 1 Axes>"
      ]
     },
     "metadata": {
      "needs_background": "light"
     },
     "output_type": "display_data"
    }
   ],
   "source": [
    "precision_1, recall_1, thresholds_1 = precision_recall_curve(np.array(label), np.array(results))\n",
    "average_precision_score_1 = average_precision_score(np.array(label), np.array(results))*100\n",
    "\n",
    "# fpr , tpr , thresholds = roc_curve (np.array(label), np.array(results))\n",
    "roc_auc_score_1 = roc_auc_score(np.array(label), np.array(results))*100\n",
    "\n",
    "base_line = round(nP/(nP+len(label)))\n",
    "print(base_line)\n",
    "fig = plt.figure(figsize=(10,10))        \n",
    "plt.title('Precision Recall Curve',fontsize=20)\n",
    "plt.xlabel('Recall',fontsize=15)\n",
    "plt.ylabel('Precision',fontsize=15)\n",
    "plt.axhline(base_line, color='black', linestyle='--', label= 'Base line = %0.3f'% (base_line))\n",
    "plt.plot(recall_1, precision_1, color='black', label= 'AP = %0.3f, AUC = %0.3f'% (average_precision_score_1, roc_auc_score_1))\n",
    "plt.legend(loc=\"upper right\",fontsize=12)\n",
    "plt.savefig('./result/figure/PRcurve_0510_1.jpg', dpi=300)"
   ]
  },
  {
   "cell_type": "code",
   "execution_count": 43,
   "id": "biological-denial",
   "metadata": {},
   "outputs": [
    {
     "name": "stdout",
     "output_type": "stream",
     "text": [
      "0 0\n",
      "0 0\n",
      "0 0\n",
      "0 0\n",
      "0 0\n",
      "0 0\n",
      "0 0\n",
      "0 0\n",
      "0 0\n",
      "0 0\n",
      "0 0\n",
      "0 0\n",
      "0 0\n",
      "0 0\n",
      "0 0\n",
      "0 0\n",
      "0 0\n",
      "0 0\n",
      "0 0\n",
      "0 0\n",
      "0 0\n",
      "1 0\n",
      "0 0\n",
      "0 0\n",
      "0 0\n",
      "1 0\n",
      "0 0\n",
      "0 0\n",
      "0 0\n",
      "0 0\n",
      "0 0\n",
      "0 0\n",
      "1 0\n",
      "0 0\n",
      "0 0\n",
      "0 0\n",
      "0 1\n",
      "0 1\n",
      "0 1\n",
      "0 1\n",
      "0 1\n",
      "0 1\n",
      "0 1\n",
      "0 1\n",
      "0 1\n",
      "0 1\n",
      "0 1\n",
      "33 3 11 0\n"
     ]
    },
    {
     "data": {
      "text/plain": [
       "<sklearn.metrics._plot.confusion_matrix.ConfusionMatrixDisplay at 0x7f243da237b8>"
      ]
     },
     "execution_count": 43,
     "metadata": {},
     "output_type": "execute_result"
    },
    {
     "data": {
      "image/png": "[encoded data removed]",
      "text/plain": [
       "<Figure size 432x288 with 2 Axes>"
      ]
     },
     "metadata": {
      "needs_background": "light"
     },
     "output_type": "display_data"
    }
   ],
   "source": [
    "binary_result=[]\n",
    "for tr in range(len(results)):\n",
    "    if results[tr]>0.5:\n",
    "        binary_result.append(1)\n",
    "    else:\n",
    "        binary_result.append(0)\n",
    "for k in range(len(results)):\n",
    "    print(binary_result[k], label[k])\n",
    "tn, fp, fn, tp = confusion_matrix(label, binary_result).ravel()\n",
    "print(tn, fp, fn, tp)\n",
    "cm = confusion_matrix(label, binary_result)\n",
    "disp = ConfusionMatrixDisplay(confusion_matrix=cm)\n",
    "disp.plot()"
   ]
  }
 ],
 "metadata": {
  "kernelspec": {
   "display_name": "Python 3",
   "language": "python",
   "name": "python3"
  },
  "language_info": {
   "codemirror_mode": {
    "name": "ipython",
    "version": 3
   },
   "file_extension": ".py",
   "mimetype": "text/x-python",
   "name": "python",
   "nbconvert_exporter": "python",
   "pygments_lexer": "ipython3",
   "version": "3.6.12"
  }
 },
 "nbformat": 4,
 "nbformat_minor": 5
}
